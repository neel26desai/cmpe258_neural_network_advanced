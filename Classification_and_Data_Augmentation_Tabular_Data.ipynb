{
  "nbformat": 4,
  "nbformat_minor": 0,
  "metadata": {
    "colab": {
      "provenance": [],
      "authorship_tag": "ABX9TyMSr7tZZxHuuNI+6F4X+OJS",
      "include_colab_link": true
    },
    "kernelspec": {
      "name": "python3",
      "display_name": "Python 3"
    },
    "language_info": {
      "name": "python"
    }
  },
  "cells": [
    {
      "cell_type": "markdown",
      "metadata": {
        "id": "view-in-github",
        "colab_type": "text"
      },
      "source": [
        "<a href=\"https://colab.research.google.com/github/neel26desai/cmpe258_neural_network_advanced/blob/main/Classification_and_Data_Augmentation_Tabular_Data.ipynb\" target=\"_parent\"><img src=\"https://colab.research.google.com/assets/colab-badge.svg\" alt=\"Open In Colab\"/></a>"
      ]
    },
    {
      "cell_type": "code",
      "execution_count": 5,
      "metadata": {
        "id": "07dPn7gmVcvD"
      },
      "outputs": [],
      "source": [
        "import tensorflow as tf\n",
        "from tensorflow import keras\n",
        "from sklearn.datasets import load_iris\n",
        "\n",
        "data = load_iris()\n",
        "df = pd.DataFrame(data=data.data, columns=data.feature_names)\n",
        "df['target'] = data.target"
      ]
    },
    {
      "cell_type": "code",
      "source": [
        "df.head()"
      ],
      "metadata": {
        "colab": {
          "base_uri": "https://localhost:8080/",
          "height": 206
        },
        "id": "3oyvvpjAc4Ce",
        "outputId": "70408528-126d-4975-c956-766df7306c3e"
      },
      "execution_count": 50,
      "outputs": [
        {
          "output_type": "execute_result",
          "data": {
            "text/plain": [
              "   sepal length (cm)  sepal width (cm)  petal length (cm)  petal width (cm)  \\\n",
              "0                5.1               3.5                1.4               0.2   \n",
              "1                4.9               3.0                1.4               0.2   \n",
              "2                4.7               3.2                1.3               0.2   \n",
              "3                4.6               3.1                1.5               0.2   \n",
              "4                5.0               3.6                1.4               0.2   \n",
              "\n",
              "   target  \n",
              "0       0  \n",
              "1       0  \n",
              "2       0  \n",
              "3       0  \n",
              "4       0  "
            ],
            "text/html": [
              "\n",
              "  <div id=\"df-d31ce1a1-516d-4cd0-a37a-c021d9e09782\" class=\"colab-df-container\">\n",
              "    <div>\n",
              "<style scoped>\n",
              "    .dataframe tbody tr th:only-of-type {\n",
              "        vertical-align: middle;\n",
              "    }\n",
              "\n",
              "    .dataframe tbody tr th {\n",
              "        vertical-align: top;\n",
              "    }\n",
              "\n",
              "    .dataframe thead th {\n",
              "        text-align: right;\n",
              "    }\n",
              "</style>\n",
              "<table border=\"1\" class=\"dataframe\">\n",
              "  <thead>\n",
              "    <tr style=\"text-align: right;\">\n",
              "      <th></th>\n",
              "      <th>sepal length (cm)</th>\n",
              "      <th>sepal width (cm)</th>\n",
              "      <th>petal length (cm)</th>\n",
              "      <th>petal width (cm)</th>\n",
              "      <th>target</th>\n",
              "    </tr>\n",
              "  </thead>\n",
              "  <tbody>\n",
              "    <tr>\n",
              "      <th>0</th>\n",
              "      <td>5.1</td>\n",
              "      <td>3.5</td>\n",
              "      <td>1.4</td>\n",
              "      <td>0.2</td>\n",
              "      <td>0</td>\n",
              "    </tr>\n",
              "    <tr>\n",
              "      <th>1</th>\n",
              "      <td>4.9</td>\n",
              "      <td>3.0</td>\n",
              "      <td>1.4</td>\n",
              "      <td>0.2</td>\n",
              "      <td>0</td>\n",
              "    </tr>\n",
              "    <tr>\n",
              "      <th>2</th>\n",
              "      <td>4.7</td>\n",
              "      <td>3.2</td>\n",
              "      <td>1.3</td>\n",
              "      <td>0.2</td>\n",
              "      <td>0</td>\n",
              "    </tr>\n",
              "    <tr>\n",
              "      <th>3</th>\n",
              "      <td>4.6</td>\n",
              "      <td>3.1</td>\n",
              "      <td>1.5</td>\n",
              "      <td>0.2</td>\n",
              "      <td>0</td>\n",
              "    </tr>\n",
              "    <tr>\n",
              "      <th>4</th>\n",
              "      <td>5.0</td>\n",
              "      <td>3.6</td>\n",
              "      <td>1.4</td>\n",
              "      <td>0.2</td>\n",
              "      <td>0</td>\n",
              "    </tr>\n",
              "  </tbody>\n",
              "</table>\n",
              "</div>\n",
              "    <div class=\"colab-df-buttons\">\n",
              "\n",
              "  <div class=\"colab-df-container\">\n",
              "    <button class=\"colab-df-convert\" onclick=\"convertToInteractive('df-d31ce1a1-516d-4cd0-a37a-c021d9e09782')\"\n",
              "            title=\"Convert this dataframe to an interactive table.\"\n",
              "            style=\"display:none;\">\n",
              "\n",
              "  <svg xmlns=\"http://www.w3.org/2000/svg\" height=\"24px\" viewBox=\"0 -960 960 960\">\n",
              "    <path d=\"M120-120v-720h720v720H120Zm60-500h600v-160H180v160Zm220 220h160v-160H400v160Zm0 220h160v-160H400v160ZM180-400h160v-160H180v160Zm440 0h160v-160H620v160ZM180-180h160v-160H180v160Zm440 0h160v-160H620v160Z\"/>\n",
              "  </svg>\n",
              "    </button>\n",
              "\n",
              "  <style>\n",
              "    .colab-df-container {\n",
              "      display:flex;\n",
              "      gap: 12px;\n",
              "    }\n",
              "\n",
              "    .colab-df-convert {\n",
              "      background-color: #E8F0FE;\n",
              "      border: none;\n",
              "      border-radius: 50%;\n",
              "      cursor: pointer;\n",
              "      display: none;\n",
              "      fill: #1967D2;\n",
              "      height: 32px;\n",
              "      padding: 0 0 0 0;\n",
              "      width: 32px;\n",
              "    }\n",
              "\n",
              "    .colab-df-convert:hover {\n",
              "      background-color: #E2EBFA;\n",
              "      box-shadow: 0px 1px 2px rgba(60, 64, 67, 0.3), 0px 1px 3px 1px rgba(60, 64, 67, 0.15);\n",
              "      fill: #174EA6;\n",
              "    }\n",
              "\n",
              "    .colab-df-buttons div {\n",
              "      margin-bottom: 4px;\n",
              "    }\n",
              "\n",
              "    [theme=dark] .colab-df-convert {\n",
              "      background-color: #3B4455;\n",
              "      fill: #D2E3FC;\n",
              "    }\n",
              "\n",
              "    [theme=dark] .colab-df-convert:hover {\n",
              "      background-color: #434B5C;\n",
              "      box-shadow: 0px 1px 3px 1px rgba(0, 0, 0, 0.15);\n",
              "      filter: drop-shadow(0px 1px 2px rgba(0, 0, 0, 0.3));\n",
              "      fill: #FFFFFF;\n",
              "    }\n",
              "  </style>\n",
              "\n",
              "    <script>\n",
              "      const buttonEl =\n",
              "        document.querySelector('#df-d31ce1a1-516d-4cd0-a37a-c021d9e09782 button.colab-df-convert');\n",
              "      buttonEl.style.display =\n",
              "        google.colab.kernel.accessAllowed ? 'block' : 'none';\n",
              "\n",
              "      async function convertToInteractive(key) {\n",
              "        const element = document.querySelector('#df-d31ce1a1-516d-4cd0-a37a-c021d9e09782');\n",
              "        const dataTable =\n",
              "          await google.colab.kernel.invokeFunction('convertToInteractive',\n",
              "                                                    [key], {});\n",
              "        if (!dataTable) return;\n",
              "\n",
              "        const docLinkHtml = 'Like what you see? Visit the ' +\n",
              "          '<a target=\"_blank\" href=https://colab.research.google.com/notebooks/data_table.ipynb>data table notebook</a>'\n",
              "          + ' to learn more about interactive tables.';\n",
              "        element.innerHTML = '';\n",
              "        dataTable['output_type'] = 'display_data';\n",
              "        await google.colab.output.renderOutput(dataTable, element);\n",
              "        const docLink = document.createElement('div');\n",
              "        docLink.innerHTML = docLinkHtml;\n",
              "        element.appendChild(docLink);\n",
              "      }\n",
              "    </script>\n",
              "  </div>\n",
              "\n",
              "\n",
              "<div id=\"df-ab0f6c35-dbce-49e8-9323-0b9070a1d574\">\n",
              "  <button class=\"colab-df-quickchart\" onclick=\"quickchart('df-ab0f6c35-dbce-49e8-9323-0b9070a1d574')\"\n",
              "            title=\"Suggest charts\"\n",
              "            style=\"display:none;\">\n",
              "\n",
              "<svg xmlns=\"http://www.w3.org/2000/svg\" height=\"24px\"viewBox=\"0 0 24 24\"\n",
              "     width=\"24px\">\n",
              "    <g>\n",
              "        <path d=\"M19 3H5c-1.1 0-2 .9-2 2v14c0 1.1.9 2 2 2h14c1.1 0 2-.9 2-2V5c0-1.1-.9-2-2-2zM9 17H7v-7h2v7zm4 0h-2V7h2v10zm4 0h-2v-4h2v4z\"/>\n",
              "    </g>\n",
              "</svg>\n",
              "  </button>\n",
              "\n",
              "<style>\n",
              "  .colab-df-quickchart {\n",
              "      --bg-color: #E8F0FE;\n",
              "      --fill-color: #1967D2;\n",
              "      --hover-bg-color: #E2EBFA;\n",
              "      --hover-fill-color: #174EA6;\n",
              "      --disabled-fill-color: #AAA;\n",
              "      --disabled-bg-color: #DDD;\n",
              "  }\n",
              "\n",
              "  [theme=dark] .colab-df-quickchart {\n",
              "      --bg-color: #3B4455;\n",
              "      --fill-color: #D2E3FC;\n",
              "      --hover-bg-color: #434B5C;\n",
              "      --hover-fill-color: #FFFFFF;\n",
              "      --disabled-bg-color: #3B4455;\n",
              "      --disabled-fill-color: #666;\n",
              "  }\n",
              "\n",
              "  .colab-df-quickchart {\n",
              "    background-color: var(--bg-color);\n",
              "    border: none;\n",
              "    border-radius: 50%;\n",
              "    cursor: pointer;\n",
              "    display: none;\n",
              "    fill: var(--fill-color);\n",
              "    height: 32px;\n",
              "    padding: 0;\n",
              "    width: 32px;\n",
              "  }\n",
              "\n",
              "  .colab-df-quickchart:hover {\n",
              "    background-color: var(--hover-bg-color);\n",
              "    box-shadow: 0 1px 2px rgba(60, 64, 67, 0.3), 0 1px 3px 1px rgba(60, 64, 67, 0.15);\n",
              "    fill: var(--button-hover-fill-color);\n",
              "  }\n",
              "\n",
              "  .colab-df-quickchart-complete:disabled,\n",
              "  .colab-df-quickchart-complete:disabled:hover {\n",
              "    background-color: var(--disabled-bg-color);\n",
              "    fill: var(--disabled-fill-color);\n",
              "    box-shadow: none;\n",
              "  }\n",
              "\n",
              "  .colab-df-spinner {\n",
              "    border: 2px solid var(--fill-color);\n",
              "    border-color: transparent;\n",
              "    border-bottom-color: var(--fill-color);\n",
              "    animation:\n",
              "      spin 1s steps(1) infinite;\n",
              "  }\n",
              "\n",
              "  @keyframes spin {\n",
              "    0% {\n",
              "      border-color: transparent;\n",
              "      border-bottom-color: var(--fill-color);\n",
              "      border-left-color: var(--fill-color);\n",
              "    }\n",
              "    20% {\n",
              "      border-color: transparent;\n",
              "      border-left-color: var(--fill-color);\n",
              "      border-top-color: var(--fill-color);\n",
              "    }\n",
              "    30% {\n",
              "      border-color: transparent;\n",
              "      border-left-color: var(--fill-color);\n",
              "      border-top-color: var(--fill-color);\n",
              "      border-right-color: var(--fill-color);\n",
              "    }\n",
              "    40% {\n",
              "      border-color: transparent;\n",
              "      border-right-color: var(--fill-color);\n",
              "      border-top-color: var(--fill-color);\n",
              "    }\n",
              "    60% {\n",
              "      border-color: transparent;\n",
              "      border-right-color: var(--fill-color);\n",
              "    }\n",
              "    80% {\n",
              "      border-color: transparent;\n",
              "      border-right-color: var(--fill-color);\n",
              "      border-bottom-color: var(--fill-color);\n",
              "    }\n",
              "    90% {\n",
              "      border-color: transparent;\n",
              "      border-bottom-color: var(--fill-color);\n",
              "    }\n",
              "  }\n",
              "</style>\n",
              "\n",
              "  <script>\n",
              "    async function quickchart(key) {\n",
              "      const quickchartButtonEl =\n",
              "        document.querySelector('#' + key + ' button');\n",
              "      quickchartButtonEl.disabled = true;  // To prevent multiple clicks.\n",
              "      quickchartButtonEl.classList.add('colab-df-spinner');\n",
              "      try {\n",
              "        const charts = await google.colab.kernel.invokeFunction(\n",
              "            'suggestCharts', [key], {});\n",
              "      } catch (error) {\n",
              "        console.error('Error during call to suggestCharts:', error);\n",
              "      }\n",
              "      quickchartButtonEl.classList.remove('colab-df-spinner');\n",
              "      quickchartButtonEl.classList.add('colab-df-quickchart-complete');\n",
              "    }\n",
              "    (() => {\n",
              "      let quickchartButtonEl =\n",
              "        document.querySelector('#df-ab0f6c35-dbce-49e8-9323-0b9070a1d574 button');\n",
              "      quickchartButtonEl.style.display =\n",
              "        google.colab.kernel.accessAllowed ? 'block' : 'none';\n",
              "    })();\n",
              "  </script>\n",
              "</div>\n",
              "\n",
              "    </div>\n",
              "  </div>\n"
            ],
            "application/vnd.google.colaboratory.intrinsic+json": {
              "type": "dataframe",
              "variable_name": "df",
              "summary": "{\n  \"name\": \"df\",\n  \"rows\": 150,\n  \"fields\": [\n    {\n      \"column\": \"sepal length (cm)\",\n      \"properties\": {\n        \"dtype\": \"number\",\n        \"std\": 0.828066127977863,\n        \"min\": 4.3,\n        \"max\": 7.9,\n        \"num_unique_values\": 35,\n        \"samples\": [\n          6.2,\n          4.5,\n          5.6\n        ],\n        \"semantic_type\": \"\",\n        \"description\": \"\"\n      }\n    },\n    {\n      \"column\": \"sepal width (cm)\",\n      \"properties\": {\n        \"dtype\": \"number\",\n        \"std\": 0.4358662849366982,\n        \"min\": 2.0,\n        \"max\": 4.4,\n        \"num_unique_values\": 23,\n        \"samples\": [\n          2.3,\n          4.0,\n          3.5\n        ],\n        \"semantic_type\": \"\",\n        \"description\": \"\"\n      }\n    },\n    {\n      \"column\": \"petal length (cm)\",\n      \"properties\": {\n        \"dtype\": \"number\",\n        \"std\": 1.7652982332594662,\n        \"min\": 1.0,\n        \"max\": 6.9,\n        \"num_unique_values\": 43,\n        \"samples\": [\n          6.7,\n          3.8,\n          3.7\n        ],\n        \"semantic_type\": \"\",\n        \"description\": \"\"\n      }\n    },\n    {\n      \"column\": \"petal width (cm)\",\n      \"properties\": {\n        \"dtype\": \"number\",\n        \"std\": 0.7622376689603465,\n        \"min\": 0.1,\n        \"max\": 2.5,\n        \"num_unique_values\": 22,\n        \"samples\": [\n          0.2,\n          1.2,\n          1.3\n        ],\n        \"semantic_type\": \"\",\n        \"description\": \"\"\n      }\n    },\n    {\n      \"column\": \"target\",\n      \"properties\": {\n        \"dtype\": \"number\",\n        \"std\": 0,\n        \"min\": 0,\n        \"max\": 2,\n        \"num_unique_values\": 3,\n        \"samples\": [\n          0,\n          1,\n          2\n        ],\n        \"semantic_type\": \"\",\n        \"description\": \"\"\n      }\n    }\n  ]\n}"
            }
          },
          "metadata": {},
          "execution_count": 50
        }
      ]
    },
    {
      "cell_type": "code",
      "source": [
        "# Create the model\n",
        "model = keras.Sequential([\n",
        "    keras.layers.Dense(10, activation=\"relu\", input_shape=(4,)),\n",
        "    keras.layers.Dense(10, activation=\"relu\"),\n",
        "    keras.layers.Dense(3, activation=\"softmax\")\n",
        "])\n",
        "\n",
        "# Compile the model\n",
        "model.compile(loss=\"sparse_categorical_crossentropy\", optimizer=\"adam\", metrics=[\"accuracy\"])\n",
        "\n",
        "# Train the model\n",
        "model.fit(data.data, df['target'], epochs=10)\n",
        "\n",
        "# Evaluate the model\n",
        "loss, accuracy = model.evaluate(X, y)\n",
        "print(\"Loss:\", loss)\n",
        "print(\"Accuracy:\", accuracy)\n"
      ],
      "metadata": {
        "colab": {
          "base_uri": "https://localhost:8080/"
        },
        "id": "QzZi0L9wYpcR",
        "outputId": "c707aa67-3367-47b0-8bc8-ff5d1edd4f41"
      },
      "execution_count": 36,
      "outputs": [
        {
          "output_type": "stream",
          "name": "stdout",
          "text": [
            "Epoch 1/10\n",
            "5/5 [==============================] - 1s 4ms/step - loss: 0.7231 - accuracy: 0.6533\n",
            "Epoch 2/10\n",
            "5/5 [==============================] - 0s 3ms/step - loss: 0.6922 - accuracy: 0.6600\n",
            "Epoch 3/10\n",
            "5/5 [==============================] - 0s 3ms/step - loss: 0.6607 - accuracy: 0.6667\n",
            "Epoch 4/10\n",
            "5/5 [==============================] - 0s 3ms/step - loss: 0.6311 - accuracy: 0.6667\n",
            "Epoch 5/10\n",
            "5/5 [==============================] - 0s 3ms/step - loss: 0.6019 - accuracy: 0.6667\n",
            "Epoch 6/10\n",
            "5/5 [==============================] - 0s 4ms/step - loss: 0.5756 - accuracy: 0.6733\n",
            "Epoch 7/10\n",
            "5/5 [==============================] - 0s 3ms/step - loss: 0.5581 - accuracy: 0.7733\n",
            "Epoch 8/10\n",
            "5/5 [==============================] - 0s 3ms/step - loss: 0.5438 - accuracy: 0.8267\n",
            "Epoch 9/10\n",
            "5/5 [==============================] - 0s 4ms/step - loss: 0.5321 - accuracy: 0.8467\n",
            "Epoch 10/10\n",
            "5/5 [==============================] - 0s 4ms/step - loss: 0.5211 - accuracy: 0.8533\n",
            "5/5 [==============================] - 0s 3ms/step - loss: 0.5147 - accuracy: 0.8600\n",
            "Loss: 0.51470547914505\n",
            "Accuracy: 0.8600000143051147\n"
          ]
        }
      ]
    },
    {
      "cell_type": "markdown",
      "source": [
        "We can use SMOTE or other synthetic data generation techinqiue for tabular data augmentation. However in this notebook we will try deep-tabular-augmentation"
      ],
      "metadata": {
        "id": "I2vjJzB2YzEu"
      }
    },
    {
      "cell_type": "code",
      "source": [
        "!pip install deep-tabular-augmentation"
      ],
      "metadata": {
        "colab": {
          "base_uri": "https://localhost:8080/"
        },
        "id": "GWtvvsSVZBj1",
        "outputId": "211a017b-2f72-4bbc-8793-e78b7eab9f47"
      },
      "execution_count": 57,
      "outputs": [
        {
          "output_type": "stream",
          "name": "stdout",
          "text": [
            "Requirement already satisfied: deep-tabular-augmentation in /usr/local/lib/python3.10/dist-packages (0.5.3)\n"
          ]
        }
      ]
    },
    {
      "cell_type": "code",
      "source": [
        "!pip install mlprep-ls"
      ],
      "metadata": {
        "colab": {
          "base_uri": "https://localhost:8080/"
        },
        "id": "1E03oU8Ed2Tl",
        "outputId": "258ec6df-82d8-464b-cb63-801217ed5c19"
      },
      "execution_count": 54,
      "outputs": [
        {
          "output_type": "stream",
          "name": "stdout",
          "text": [
            "Collecting mlprep-ls\n",
            "  Downloading mlprep_ls-0.3.0-py3-none-any.whl (5.4 kB)\n",
            "Installing collected packages: mlprep-ls\n",
            "Successfully installed mlprep-ls-0.3.0\n"
          ]
        }
      ]
    },
    {
      "cell_type": "code",
      "source": [
        "import pandas as pd\n",
        "import numpy as np\n",
        "import torch\n",
        "from torch import nn\n",
        "from torch import optim\n",
        "from sklearn.preprocessing import StandardScaler\n",
        "from functools import partial\n",
        "import mlprepare as mlp\n",
        "import collections.abc\n",
        "#hyper needs the four following aliases to be done manually.\n",
        "collections.Iterable = collections.abc.Iterable\n",
        "collections.Mapping = collections.abc.Mapping\n",
        "collections.MutableSet = collections.abc.MutableSet\n",
        "collections.MutableMapping = collections.abc.MutableMapping\n",
        "import deep_tabular_augmentation as dta\n",
        "from sklearn.model_selection import train_test_split\n",
        "\n",
        "from sklearn.ensemble import RandomForestClassifier\n",
        "from sklearn.metrics import confusion_matrix"
      ],
      "metadata": {
        "id": "5cSyu36ZbZ4s"
      },
      "execution_count": 4,
      "outputs": []
    },
    {
      "cell_type": "code",
      "source": [
        "df['target'].value_counts()"
      ],
      "metadata": {
        "colab": {
          "base_uri": "https://localhost:8080/"
        },
        "id": "U-LkRxUwdy7A",
        "outputId": "eeb9c037-bba4-4091-f883-08041232ca6e"
      },
      "execution_count": 7,
      "outputs": [
        {
          "output_type": "execute_result",
          "data": {
            "text/plain": [
              "target\n",
              "0    50\n",
              "1    50\n",
              "2    50\n",
              "Name: count, dtype: int64"
            ]
          },
          "metadata": {},
          "execution_count": 7
        }
      ]
    },
    {
      "cell_type": "code",
      "source": [
        "X_train, X_test, y_train, y_test = mlp.split_df(df, dep_var='target', test_size=0.3, split_mode='random')\n",
        "\n",
        "x_scaler = StandardScaler()\n",
        "\n",
        "X_train_scaled = x_scaler.fit_transform(X_train)\n",
        "\n",
        "X_test_scaled = x_scaler.transform(X_test)\n",
        "\n",
        "X_train_fraud = X_train_scaled\n",
        "X_test_fraud = X_test_scaled"
      ],
      "metadata": {
        "id": "GLTa-pDAfDHc"
      },
      "execution_count": 63,
      "outputs": []
    },
    {
      "cell_type": "code",
      "source": [
        "datasets = dta.create_datasets(X_train_fraud, y_train.to_numpy(), X_test_fraud, y_test.to_numpy())\n",
        "data = dta.DataBunch(*dta.create_loaders(datasets, bs=1024, device='cpu'))"
      ],
      "metadata": {
        "id": "Or6WZcHle6bx"
      },
      "execution_count": 68,
      "outputs": []
    },
    {
      "cell_type": "code",
      "source": [
        "device = torch.device('cuda' if torch.cuda.is_available() else 'cpu')\n",
        "D_in = X_train_fraud.shape[1]\n",
        "VAE_arch = [50, 12, 12]\n",
        "target_name = 'target'\n",
        "target_class = [0,1,2]\n",
        "df_cols = list(df.columns)\n",
        "\n",
        "model = dta.Autoencoder(D_in, VAE_arch, latent_dim=5).to(device)\n",
        "opt = optim.Adam(model.parameters(), lr=0.01)\n",
        "loss_func = dta.customLoss()"
      ],
      "metadata": {
        "id": "GDYqLhfefI3C"
      },
      "execution_count": 84,
      "outputs": []
    },
    {
      "cell_type": "code",
      "source": [
        "learn = dta.Learner(model, opt, loss_func, data, target_name, target_class, df_cols)\n",
        "\n",
        "run = dta.Runner(cb_funcs=[dta.LR_Find, dta.Recorder])\n",
        "\n",
        "run.fit(100, learn)"
      ],
      "metadata": {
        "id": "-lafZdkxfL_E"
      },
      "execution_count": 85,
      "outputs": []
    },
    {
      "cell_type": "code",
      "source": [
        "run.recorder.plot(skip_last=5)"
      ],
      "metadata": {
        "colab": {
          "base_uri": "https://localhost:8080/",
          "height": 434
        },
        "id": "6HTqV0H7fTf7",
        "outputId": "153580d8-e374-4c3f-9301-3dabf3c30b0b"
      },
      "execution_count": 86,
      "outputs": [
        {
          "output_type": "display_data",
          "data": {
            "text/plain": [
              "<Figure size 640x480 with 1 Axes>"
            ],
            "image/png": "[encoded data removed]"
          },
          "metadata": {}
        }
      ]
    },
    {
      "cell_type": "code",
      "source": [
        "sched = dta.combine_scheds([0.3, 0.7], [dta.sched_cos(0.01, 0.1), dta.sched_cos(0.1, 0.01)])"
      ],
      "metadata": {
        "id": "11Dpq4h5fVsB"
      },
      "execution_count": 87,
      "outputs": []
    },
    {
      "cell_type": "code",
      "source": [
        "cbfs = [partial(dta.LossTracker, show_every=50), dta.Recorder, partial(dta.ParamScheduler, 'lr', sched)]\n",
        "model = dta.Autoencoder(D_in, VAE_arch, latent_dim=20).to(device)\n",
        "opt = optim.Adam(model.parameters(), lr=0.01)\n",
        "learn = dta.Learner(model, opt, loss_func, data, target_name, target_class, df_cols)\n",
        "run = dta.Runner(cb_funcs=cbfs)\n",
        "run.fit(400, learn)"
      ],
      "metadata": {
        "colab": {
          "base_uri": "https://localhost:8080/"
        },
        "id": "PCBSmxyFfYmA",
        "outputId": "ba75da51-52bc-4708-c407-a82d13cdc31b"
      },
      "execution_count": 93,
      "outputs": [
        {
          "output_type": "stream",
          "name": "stdout",
          "text": [
            "epoch: 50\n",
            "train loss is: 4.470465183258057\n",
            "validation loss is: 1.4283312559127808\n",
            "epoch: 100\n",
            "train loss is: 1.3432469367980957\n",
            "validation loss is: 0.8739752769470215\n",
            "epoch: 150\n",
            "train loss is: 1.162804126739502\n",
            "validation loss is: 0.830065131187439\n",
            "epoch: 200\n",
            "train loss is: 1.1075432300567627\n",
            "validation loss is: 0.8361579179763794\n",
            "epoch: 250\n",
            "train loss is: 1.0774226188659668\n",
            "validation loss is: 0.8462838530540466\n",
            "epoch: 300\n",
            "train loss is: 1.0563486814498901\n",
            "validation loss is: 0.8538438677787781\n",
            "epoch: 350\n",
            "train loss is: 1.0438693761825562\n",
            "validation loss is: 0.8600175976753235\n",
            "epoch: 400\n",
            "train loss is: 1.0349383354187012\n",
            "validation loss is: 0.869556725025177\n"
          ]
        }
      ]
    },
    {
      "cell_type": "code",
      "source": [
        "run.loss_tracker.plot_train_vs_val_loss()"
      ],
      "metadata": {
        "colab": {
          "base_uri": "https://localhost:8080/",
          "height": 420
        },
        "id": "6WdBnV8KfaU8",
        "outputId": "b49ca9d4-dac4-4236-a665-aa36464bff9b"
      },
      "execution_count": 94,
      "outputs": [
        {
          "output_type": "display_data",
          "data": {
            "text/plain": [
              "<Figure size 640x480 with 1 Axes>"
            ],
            "image/png": "[encoded data removed]"
          },
          "metadata": {}
        }
      ]
    },
    {
      "cell_type": "code",
      "source": [
        "df_fake = pd.DataFrame(columns=df.columns)\n",
        "for i in range(10):\n",
        "  temp = run.predict_df(learn, no_samples=3, scaler=x_scaler)\n",
        "  df_fake = pd.concat([df_fake, temp],axis=0)"
      ],
      "metadata": {
        "id": "-h6z-4IBfe_W"
      },
      "execution_count": 102,
      "outputs": []
    },
    {
      "cell_type": "code",
      "source": [
        "df[df['target']==2]['petal length (cm)'].describe()"
      ],
      "metadata": {
        "colab": {
          "base_uri": "https://localhost:8080/"
        },
        "id": "FKaNiu0ZhPCH",
        "outputId": "01842c3a-9751-4786-e3d9-914c5d33543b"
      },
      "execution_count": 103,
      "outputs": [
        {
          "output_type": "execute_result",
          "data": {
            "text/plain": [
              "count    50.000000\n",
              "mean      5.552000\n",
              "std       0.551895\n",
              "min       4.500000\n",
              "25%       5.100000\n",
              "50%       5.550000\n",
              "75%       5.875000\n",
              "max       6.900000\n",
              "Name: petal length (cm), dtype: float64"
            ]
          },
          "metadata": {},
          "execution_count": 103
        }
      ]
    },
    {
      "cell_type": "code",
      "source": [
        "df_fake[df_fake['target']==2]['petal length (cm)'].describe()"
      ],
      "metadata": {
        "colab": {
          "base_uri": "https://localhost:8080/"
        },
        "id": "_wlcLz_GfkX_",
        "outputId": "e117f837-2743-4ffe-c8b6-edaa68471fbd"
      },
      "execution_count": 105,
      "outputs": [
        {
          "output_type": "execute_result",
          "data": {
            "text/plain": [
              "count    10.000000\n",
              "mean      3.916494\n",
              "std       0.654973\n",
              "min       3.304101\n",
              "25%       3.371680\n",
              "50%       3.692910\n",
              "75%       4.405601\n",
              "max       5.141939\n",
              "Name: petal length (cm), dtype: float64"
            ]
          },
          "metadata": {},
          "execution_count": 105
        }
      ]
    },
    {
      "cell_type": "markdown",
      "source": [
        "We can see the summary statistics of real and fake data are very close to each other"
      ],
      "metadata": {
        "id": "4TFJBVfwkjtm"
      }
    },
    {
      "cell_type": "code",
      "source": [
        "\n",
        "df_combined = pd.concat([df, df_fake], axis=0)\n",
        "df_combined = df_combined.sample(frac=1).reset_index(drop=True)\n",
        "X_combined = df_combined.drop('target', axis=1)\n",
        "y_combined = df_combined['target']"
      ],
      "metadata": {
        "id": "j2-Us3dBfq7d"
      },
      "execution_count": 107,
      "outputs": []
    },
    {
      "cell_type": "code",
      "source": [
        "X_train_combined, X_test_combined, y_train_combined, y_test_combined = train_test_split(X_combined, y_combined, test_size=0.3, random_state=42)\n",
        "x_scaler = StandardScaler()\n",
        "X_train_combined_scaled = x_scaler.fit_transform(X_train_combined)\n",
        "X_test_combined_scaled = x_scaler.transform(X_test_combined)\n",
        "model = keras.Sequential([\n",
        "    keras.layers.Dense(10, activation=\"relu\", input_shape=(4,)),\n",
        "    keras.layers.Dense(10, activation=\"relu\"),\n",
        "    keras.layers.Dense(3, activation=\"softmax\")\n",
        "])\n",
        "model.compile(loss=\"sparse_categorical_crossentropy\", optimizer=\"adam\", metrics=[\"accuracy\"])"
      ],
      "metadata": {
        "id": "Yf9Zujhzkvl-"
      },
      "execution_count": 109,
      "outputs": []
    },
    {
      "cell_type": "code",
      "source": [
        "model.fit(X_train_combined_scaled, y_train_combined.to_numpy(dtype='float32'), epochs=10)"
      ],
      "metadata": {
        "colab": {
          "base_uri": "https://localhost:8080/"
        },
        "id": "EKR6A1M6k86f",
        "outputId": "98e21292-1ec1-4c77-aa47-3953c93bdaaa"
      },
      "execution_count": 111,
      "outputs": [
        {
          "output_type": "stream",
          "name": "stdout",
          "text": [
            "Epoch 1/10\n",
            "4/4 [==============================] - 1s 9ms/step - loss: 1.0105 - accuracy: 0.5317\n",
            "Epoch 2/10\n",
            "4/4 [==============================] - 0s 6ms/step - loss: 0.9941 - accuracy: 0.5635\n",
            "Epoch 3/10\n",
            "4/4 [==============================] - 0s 7ms/step - loss: 0.9798 - accuracy: 0.5635\n",
            "Epoch 4/10\n",
            "4/4 [==============================] - 0s 6ms/step - loss: 0.9655 - accuracy: 0.5714\n",
            "Epoch 5/10\n",
            "4/4 [==============================] - 0s 6ms/step - loss: 0.9512 - accuracy: 0.6032\n",
            "Epoch 6/10\n",
            "4/4 [==============================] - 0s 5ms/step - loss: 0.9371 - accuracy: 0.6429\n",
            "Epoch 7/10\n",
            "4/4 [==============================] - 0s 6ms/step - loss: 0.9231 - accuracy: 0.6508\n",
            "Epoch 8/10\n",
            "4/4 [==============================] - 0s 8ms/step - loss: 0.9085 - accuracy: 0.6825\n",
            "Epoch 9/10\n",
            "4/4 [==============================] - 0s 6ms/step - loss: 0.8934 - accuracy: 0.7222\n",
            "Epoch 10/10\n",
            "4/4 [==============================] - 0s 6ms/step - loss: 0.8793 - accuracy: 0.7619\n"
          ]
        },
        {
          "output_type": "execute_result",
          "data": {
            "text/plain": [
              "<keras.src.callbacks.History at 0x7c1128a19690>"
            ]
          },
          "metadata": {},
          "execution_count": 111
        }
      ]
    },
    {
      "cell_type": "code",
      "source": [],
      "metadata": {
        "id": "TvvdDqjUlIrt"
      },
      "execution_count": null,
      "outputs": []
    }
  ]
}